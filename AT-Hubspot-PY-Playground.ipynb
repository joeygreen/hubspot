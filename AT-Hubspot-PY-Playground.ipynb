{
 "cells": [
  {
   "cell_type": "markdown",
   "metadata": {},
   "source": [
    "# AT Hubspot Python Playground"
   ]
  },
  {
   "cell_type": "markdown",
   "metadata": {},
   "source": [
    "## [Test Environment (Test Destination)](https://app.hubspot.com/reports-dashboard/7544157/sales)\n",
    "\n",
    "* Engagement API Documentation: https://developers.hubspot.com/docs/methods/engagements/engagements-overview"
   ]
  },
  {
   "cell_type": "code",
   "execution_count": 267,
   "metadata": {},
   "outputs": [],
   "source": [
    "import http.client\n",
    "import urllib.parse\n",
    "import json\n",
    "import requests"
   ]
  },
  {
   "cell_type": "code",
   "execution_count": 268,
   "metadata": {},
   "outputs": [],
   "source": [
    "apiroothttp = \"api.hubapi.com\"\n",
    "apirootrequests = \"http://api.hubapi.com\"\n",
    "apikeytest = \"\""
   ]
  },
  {
   "cell_type": "markdown",
   "metadata": {},
   "source": [
    "### Setup an http connection to the base api url"
   ]
  },
  {
   "cell_type": "code",
   "execution_count": 269,
   "metadata": {},
   "outputs": [],
   "source": [
    "apiConnection = http.client.HTTPConnection(apiroot)"
   ]
  },
  {
   "cell_type": "markdown",
   "metadata": {},
   "source": [
    "### Return a properly formatted url to the engagements GET endpoint for listing engagements"
   ]
  },
  {
   "cell_type": "code",
   "execution_count": 270,
   "metadata": {},
   "outputs": [],
   "source": [
    "def getengagementsurl(apikey):\n",
    "    return f\"/engagements/v1/engagements/paged?hapikey={apikey}\"\n",
    "engagementsresponsejson = None"
   ]
  },
  {
   "cell_type": "markdown",
   "metadata": {},
   "source": [
    "### Make a request and display the returned json data"
   ]
  },
  {
   "cell_type": "markdown",
   "metadata": {},
   "source": [
    "This function uses the http.client.HTTPCOnnection object"
   ]
  },
  {
   "cell_type": "code",
   "execution_count": 271,
   "metadata": {},
   "outputs": [],
   "source": [
    "def requestengagementshttp():\n",
    "    apiConnection.request(\"GET\", getengagementsurl(apikeytest))\n",
    "    response = apiConnection.getresponse()\n",
    "    jsondata = json.loads(response.read())\n",
    "    return jsondata[\"results\"]\n",
    "    \n",
    "engagementsresponsejson = requestengagementshttp()"
   ]
  },
  {
   "cell_type": "markdown",
   "metadata": {},
   "source": [
    "This function uses the requests library"
   ]
  },
  {
   "cell_type": "code",
   "execution_count": 272,
   "metadata": {},
   "outputs": [],
   "source": [
    "def requestengagementsrequests():\n",
    "    response = requests.get(f\"{apirootrequests}{getengagementsurl(apikeytest)}\")\n",
    "    jsondata = json.loads(response.text)\n",
    "    return jsondata\n",
    "    \n",
    "engagementsresponsejson = requestengagementsrequests()"
   ]
  },
  {
   "cell_type": "markdown",
   "metadata": {},
   "source": [
    "This function displays some individual engagment properties by itterating over the results property."
   ]
  },
  {
   "cell_type": "code",
   "execution_count": 273,
   "metadata": {},
   "outputs": [
    {
     "data": {
      "text/plain": [
       "6806253377"
      ]
     },
     "metadata": {},
     "output_type": "display_data"
    },
    {
     "data": {
      "text/plain": [
       "6807473070"
      ]
     },
     "metadata": {},
     "output_type": "display_data"
    },
    {
     "data": {
      "text/plain": [
       "6807476599"
      ]
     },
     "metadata": {},
     "output_type": "display_data"
    },
    {
     "data": {
      "text/plain": [
       "6809458682"
      ]
     },
     "metadata": {},
     "output_type": "display_data"
    }
   ],
   "source": [
    "engagementsresponsejson = requestengagementsrequests()\n",
    "\n",
    "def viewengagementdata():\n",
    "    for result in engagementsresponsejson[\"results\"]:\n",
    "        display(result[\"engagement\"][\"id\"])\n",
    "        \n",
    "viewengagementdata()"
   ]
  },
  {
   "cell_type": "markdown",
   "metadata": {},
   "source": [
    "Let's try to write this to a local file."
   ]
  },
  {
   "cell_type": "code",
   "execution_count": null,
   "metadata": {},
   "outputs": [],
   "source": []
  }
 ],
 "metadata": {
  "kernelspec": {
   "display_name": "Python 3",
   "language": "python",
   "name": "python3"
  },
  "language_info": {
   "codemirror_mode": {
    "name": "ipython",
    "version": 3
   },
   "file_extension": ".py",
   "mimetype": "text/x-python",
   "name": "python",
   "nbconvert_exporter": "python",
   "pygments_lexer": "ipython3",
   "version": "3.8.2"
  }
 },
 "nbformat": 4,
 "nbformat_minor": 4
}
